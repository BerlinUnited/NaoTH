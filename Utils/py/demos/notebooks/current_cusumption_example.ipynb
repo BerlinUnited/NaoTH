{
 "cells": [
  {
   "cell_type": "markdown",
   "metadata": {},
   "source": [
    "TODO make it more useful for use in other scripts:\n",
    "- make it possible to select specific joints\n",
    "- make it possible to select motion types / transition between motion types\n",
    "- add plots"
   ]
  },
  {
   "cell_type": "markdown",
   "metadata": {},
   "source": [
    "# Current Consumption Example\n",
    "\n",
    "The current consumption example demonstartes how to get the values of the cunsumed current of all frames where joint movement was logged."
   ]
  },
  {
   "cell_type": "markdown",
   "metadata": {},
   "source": [
    "## Setup\n",
    "\n",
    "### Goggl Colab\n",
    "\n",
    "The following installations of requirements should only be run in google colab.\n",
    "When you run this notbook on your machine, the requirements should be installed in your local venv."
   ]
  },
  {
   "cell_type": "code",
   "execution_count": null,
   "metadata": {},
   "outputs": [],
   "source": [
    "!pip install numpy naoth"
   ]
  },
  {
   "cell_type": "markdown",
   "metadata": {},
   "source": [
    "### Local venv\n",
    "\n",
    "*assuming you have python>=3.6.9 and an active venv*\n",
    "1. install the requirements `python -m pip install -r requirements.txt`\n",
    "1.1 in `/py/naoth` install naoth via `python -m pip install .`\n",
    "2. start the jupyter server `python -m jupyter notebook notebooks`\n",
    "3. have fun with the notebooks in notebooks/"
   ]
  },
  {
   "cell_type": "markdown",
   "metadata": {},
   "source": [
    "## Usage"
   ]
  },
  {
   "cell_type": "code",
   "execution_count": 22,
   "metadata": {},
   "outputs": [],
   "source": [
    "import numpy as np\n",
    "from naoth.log import BehaviorParser\n",
    "from naoth.log import Reader as LogReader\n",
    "from naoth.datasets import motion"
   ]
  },
  {
   "cell_type": "code",
   "execution_count": 23,
   "metadata": {},
   "outputs": [],
   "source": [
    "JointID = {\n",
    "    \"HeadPitch\": 0,\n",
    "    \"HeadYaw\": 1,\n",
    "    \"RShoulderRoll\": 2,\n",
    "    \"LShoulderRoll\": 3,\n",
    "    \"RShoulderPitch\": 4,\n",
    "    \"LShoulderPitch\": 5,\n",
    "    \"RElbowRoll\": 6,\n",
    "    \"LElbowRoll\": 7,\n",
    "    \"RElbowYaw\": 8,\n",
    "    \"LElbowYaw\": 9,\n",
    "    \"RHipYawPitch\": 10,\n",
    "    \"LHipYawPitch\": 11,\n",
    "    \"RHipPitch\": 12,\n",
    "    \"LHipPitch\": 13,\n",
    "    \"RHipRoll\": 14,\n",
    "    \"LHipRoll\": 15,\n",
    "    \"RKneePitch\": 16,\n",
    "    \"LKneePitch\": 17,\n",
    "    \"RAnklePitch\": 18,\n",
    "    \"LAnklePitch\": 19,\n",
    "    \"RAnkleRoll\": 20,\n",
    "    \"LAnkleRoll\": 21\n",
    "}"
   ]
  },
  {
   "cell_type": "code",
   "execution_count": 24,
   "metadata": {},
   "outputs": [],
   "source": [
    "def frame_filter(behavior_parser, frame):\n",
    "    try:\n",
    "        behavior_frame = behavior_parser.parse(frame['BehaviorStateSparse'])\n",
    "\n",
    "        return [frame[\"FrameInfo\"].time / 1000.0,\n",
    "                frame[\"BodyStatus\"].currentSum[JointID[\"RHipYawPitch\"]],\n",
    "                frame[\"BodyStatus\"].currentSum[JointID[\"LHipYawPitch\"]],\n",
    "                frame[\"BodyStatus\"].currentSum[JointID[\"RHipPitch\"]],\n",
    "                frame[\"BodyStatus\"].currentSum[JointID[\"LHipPitch\"]],\n",
    "                frame[\"BodyStatus\"].currentSum[JointID[\"RHipRoll\"]],\n",
    "                frame[\"BodyStatus\"].currentSum[JointID[\"LHipRoll\"]],\n",
    "                frame[\"BodyStatus\"].currentSum[JointID[\"RKneePitch\"]],\n",
    "                frame[\"BodyStatus\"].currentSum[JointID[\"LKneePitch\"]],\n",
    "                frame[\"BodyStatus\"].currentSum[JointID[\"RAnklePitch\"]],\n",
    "                frame[\"BodyStatus\"].currentSum[JointID[\"LAnklePitch\"]],\n",
    "                frame[\"BodyStatus\"].currentSum[JointID[\"RAnkleRoll\"]],\n",
    "                frame[\"BodyStatus\"].currentSum[JointID[\"LAnkleRoll\"]],\n",
    "                behavior_frame.input_symbols['executed_motion.type'].value\n",
    "                ]\n",
    "\n",
    "    except KeyError:\n",
    "        raise StopIteration"
   ]
  },
  {
   "cell_type": "markdown",
   "metadata": {},
   "source": [
    "Get the logfile data as numpy array."
   ]
  },
  {
   "cell_type": "code",
   "execution_count": 25,
   "metadata": {},
   "outputs": [],
   "source": [
    "logfile_name = motion.load_data('cognition')\n",
    "frame_list = list()\n",
    "\n",
    "with LogReader(logfile_name) as logfile:\n",
    "    behavior_parser = BehaviorParser()\n",
    "    for frame in logfile.read():\n",
    "        if 'BehaviorStateComplete' in frame:\n",
    "            behavior_parser.initialize(frame['BehaviorStateComplete'])\n",
    "        frame_list.append(frame_filter(behavior_parser, frame))\n",
    "\n",
    "# make an numpy array\n",
    "data = np.array(frame_list)"
   ]
  },
  {
   "cell_type": "code",
   "execution_count": 26,
   "metadata": {},
   "outputs": [],
   "source": [
    "new_data = np.zeros((data.shape[0] - 1, data.shape[1]))\n",
    "\n",
    "for idx in range(data.shape[0] - 1):\n",
    "    # calculate the frame time since last frame\n",
    "    time_diff = data[idx + 1, 0] - data[idx, 0]\n",
    "    # calculate the difference between the current sums\n",
    "    current_difference = data[idx + 1, 1:13] - data[idx, 1:13]\n",
    "\n",
    "    new_data[idx, 0] = time_diff\n",
    "    new_data[idx, 1:13] = current_difference\n",
    "    new_data[idx, 13] = data[idx, 13]  # leave executed motion type as it is"
   ]
  },
  {
   "cell_type": "markdown",
   "metadata": {},
   "source": [
    "Extract the frames where the robot was standing or walking."
   ]
  },
  {
   "cell_type": "code",
   "execution_count": 31,
   "metadata": {},
   "outputs": [],
   "source": [
    "stand = np.array([frame for frame in new_data if int(frame[13]) == 4])\n",
    "walk = np.array([frame for frame in new_data if int(frame[13]) == 5])"
   ]
  },
  {
   "cell_type": "markdown",
   "metadata": {},
   "source": [
    "Make some simple statistics on it."
   ]
  },
  {
   "cell_type": "markdown",
   "metadata": {},
   "source": [
    "Print the time the robot was standing with how much current was used."
   ]
  },
  {
   "cell_type": "code",
   "execution_count": 32,
   "metadata": {},
   "outputs": [
    {
     "name": "stdout",
     "output_type": "stream",
     "text": [
      "time standing: 0 seconds with 0 current used at RHipYawPitch\n"
     ]
    }
   ],
   "source": [
    "time_stand = sum(stand[:, 0]) if list(stand) else 0\n",
    "consumption_r_hip_yaw_pitch_stand = sum(stand[:, 1]) if list(stand) else 0\n",
    "print(f\"time standing: {time_stand} seconds with {consumption_r_hip_yaw_pitch_stand} current used at RHipYawPitch\")"
   ]
  },
  {
   "cell_type": "markdown",
   "metadata": {},
   "source": [
    "Print the time the robot was walking with how much current was used."
   ]
  },
  {
   "cell_type": "code",
   "execution_count": 33,
   "metadata": {},
   "outputs": [
    {
     "name": "stdout",
     "output_type": "stream",
     "text": [
      "time walking : 6.692999999999984 seconds with 5.008000157773495 current used at RHipYawPitch\n"
     ]
    }
   ],
   "source": [
    "time_walk = sum(walk[:, 0]) if list(walk) else 0\n",
    "consumption_r_hip_yaw_pitch_walk = sum(walk[:, 1]) if list(walk) else 0\n",
    "print(f\"time walking : {time_walk} seconds with {consumption_r_hip_yaw_pitch_walk} current used at RHipYawPitch\")"
   ]
  }
 ],
 "metadata": {
  "kernelspec": {
   "display_name": "Python 3",
   "language": "python",
   "name": "python3"
  },
  "language_info": {
   "codemirror_mode": {
    "name": "ipython",
    "version": 3
   },
   "file_extension": ".py",
   "mimetype": "text/x-python",
   "name": "python",
   "nbconvert_exporter": "python",
   "pygments_lexer": "ipython3",
   "version": "3.6.9"
  }
 },
 "nbformat": 4,
 "nbformat_minor": 4
}
